{
  "nbformat": 4,
  "nbformat_minor": 0,
  "metadata": {
    "colab": {
      "provenance": [],
      "authorship_tag": "ABX9TyPfBuCzRVeQcFBLkjTT7J2q",
      "include_colab_link": true
    },
    "kernelspec": {
      "name": "python3",
      "display_name": "Python 3"
    },
    "language_info": {
      "name": "python"
    }
  },
  "cells": [
    {
      "cell_type": "markdown",
      "metadata": {
        "id": "view-in-github",
        "colab_type": "text"
      },
      "source": [
        "<a href=\"https://colab.research.google.com/github/zsyver/scrappy_scrapes/blob/main/scrape_nyt_final.ipynb\" target=\"_parent\"><img src=\"https://colab.research.google.com/assets/colab-badge.svg\" alt=\"Open In Colab\"/></a>"
      ]
    },
    {
      "cell_type": "code",
      "execution_count": 2,
      "metadata": {
        "colab": {
          "base_uri": "https://localhost:8080/"
        },
        "id": "bMtuZ4wg1SR0",
        "outputId": "68d52c4b-deeb-472d-8270-4ff941f19f77"
      },
      "outputs": [
        {
          "output_type": "stream",
          "name": "stdout",
          "text": [
            "[<p class=\"summary-class css-1azn4ub\">Less than a week before Election Day, President Biden delivered a speech on the threat posed by Republicans who won’t commit to accepting the results.</p>, <p class=\"summary-class css-1azn4ub\">Donald Trump’s push to overturn his 2020 loss was rejected by courts. Now dozens of lawyers who advanced his claims are working for G.O.P. groups.</p>, <p class=\"summary-class css-1azn4ub\">The Federal Reserve has now raised interest rates six times this year as it tries to quash the fastest inflation in four decades.</p>, <p class=\"summary-class css-1azn4ub\">The agreement allows Ukraine, a major food producer, to export grain by sea, easing the threat of famine in other countries.</p>, <p class=\"summary-class css-1azn4ub\">U.S. officials say they do not believe that Russia has decided to detonate a tactical device, but concerns are rising.</p>, <p class=\"summary-class css-1azn4ub\">In a lengthy letter, Representative Zoe Lofgren — one of the most senior Democrats in the House — questioned several of the department’s policies and practices.</p>, <p class=\"summary-class css-1azn4ub\">The New York attorney general’s office found that CBS, whose parent company is now Paramount, concealed allegations about its former chief executive.</p>, <p class=\"summary-class css-1azn4ub\">The “Hunger Games” actress is free from her franchise commitments. But after a brief hiatus from acting, what will she do next?</p>, <p class=\"summary-class css-1azn4ub\">Thousands demonstrated across Brazil, many of them demanding that the military stop the transfer of power to President-elect Luiz Inácio Lula da Silva.</p>, <p class=\"summary-class css-1azn4ub\">As Mr. Musk takes over Twitter, he is emulating some of the actions of Mr. Zuckerberg, who leads Facebook, Instagram and WhatsApp.</p>, <p class=\"summary-class css-1azn4ub\">The surprise deal comes after two years of fighting that left hundreds of thousands dead and millions displaced and facing starvation.</p>, <p class=\"summary-class css-1azn4ub\">Writers, critics and musicians including Kamasi Washington, Nubya Garcia and Shabaka Hutchings on their connection to Coleman’s fearless artistry.</p>, <p class=\"summary-class css-1azn4ub\">After Philadelphia seized control of the Series with a barrage of homers on Tuesday, Houston is trying to fight back. Follow The Athletic’s live coverage.</p>, <p class=\"summary-class css-1azn4ub\">It was the first time in the World Series a team hit five home runs in the first five innings. And that was just the beginning.</p>, <p class=\"summary-class css-1azn4ub\">Can Houston win in Philadelphia and tie up the World Series at 2-2? Here’s what oddsmakers and The Athletic’s writers think.</p>, <p class=\"summary-class css-1azn4ub\">Here’s what you need to know at the end of the day.</p>, <p class=\"summary-class css-1azn4ub\">Wesley Morris and J Wortham kick off a new season with Jordan Peele’s “Nope.”</p>, <p class=\"summary-class css-1azn4ub\">Could one small shift fix the polls in 2022?</p>, <p class=\"summary-class css-1azn4ub\">Join the head of the W.T.O. and other leaders for a Times event, Nov. 8-10.</p>, <p class=\"summary-class css-1azn4ub\">A political action committee has given more money to its founder and his charter school than to candidates aligned with Mayor Eric Adams.</p>, <p class=\"summary-class css-1azn4ub\">Benjamin Netanyahu’s near-certain win in this week’s election won’t be confirmed until Thursday, but his far right allies are already savoring their rise to power.</p>, <p class=\"summary-class css-1azn4ub\">Iran’s security forces shot at windows and threw stun grenades at a complex where a member of a militia was killed last week, residents said.</p>, <p class=\"summary-class css-1azn4ub\">The storm grew to hurricane strength on Wednesday. It had prompted hurricane and tropical storm warnings in parts of Belize, Guatemala and Mexico.</p>, <p class=\"summary-class css-1azn4ub\">Director Damien Chazelle and production designer Florencia Martin discuss how they captured the period when Hollywood was heading for a reckoning.</p>, <p class=\"summary-class css-1azn4ub\">These works consider the sources and effects of an alarming trend.</p>, <p class=\"summary-class css-1azn4ub\">In “Upcycle Nation,” premiering this week, contestants reimagine used items.</p>, <p class=\"summary-class css-1azn4ub\">The poet’s house museum gets a vibrant, historically correct makeover.</p>, <p class=\"summary-class css-1azn4ub\">“My Broken Language” was adapted from her 2021 memoir.</p>, <p class=\"summary-class css-1azn4ub\">How many words can you make with 7 letters?</p>, <p class=\"summary-class css-1azn4ub\">Get clued in with wordplay, every day.</p>, <p class=\"summary-class css-1azn4ub\">Guess the 5-letter word with 6 chances.</p>, <p class=\"summary-class css-1azn4ub\">What the data tells us about how people play the game.</p>, <p class=\"summary-class css-1azn4ub\">Create words using letters around the square.</p>, <p class=\"summary-class css-1azn4ub\">Match visual elements and keep your chain going.</p>]\n",
            "<class 'bs4.element.ResultSet'>\n",
            "['Less than a week before Election Day, President Biden delivered a speech on the threat posed by Republicans who won’t commit to accepting the results.</', 'Donald Trump’s push to overturn his 2020 loss was rejected by courts. Now dozens of lawyers who advanced his claims are working for G.O.P. groups.</', 'The Federal Reserve has now raised interest rates six times this year as it tries to quash the fastest inflation in four decades.</', 'The agreement allows Ukraine, a major food producer, to export grain by sea, easing the threat of famine in other countries.</', 'U.S. officials say they do not believe that Russia has decided to detonate a tactical device, but concerns are rising.</', 'In a lengthy letter, Representative Zoe Lofgren — one of the most senior Democrats in the House — questioned several of the department’s policies and practices.</', 'The New York attorney general’s office found that CBS, whose parent company is now Paramount, concealed allegations about its former chief executive.</', 'The “Hunger Games” actress is free from her franchise commitments. But after a brief hiatus from acting, what will she do next?</', 'Thousands demonstrated across Brazil, many of them demanding that the military stop the transfer of power to President-elect Luiz Inácio Lula da Silva.</', 'As Mr. Musk takes over Twitter, he is emulating some of the actions of Mr. Zuckerberg, who leads Facebook, Instagram and WhatsApp.</', 'The surprise deal comes after two years of fighting that left hundreds of thousands dead and millions displaced and facing starvation.</', 'Writers, critics and musicians including Kamasi Washington, Nubya Garcia and Shabaka Hutchings on their connection to Coleman’s fearless artistry.</', 'After Philadelphia seized control of the Series with a barrage of homers on Tuesday, Houston is trying to fight back. Follow The Athletic’s live coverage.</', 'It was the first time in the World Series a team hit five home runs in the first five innings. And that was just the beginning.</', 'Can Houston win in Philadelphia and tie up the World Series at 2-2? Here’s what oddsmakers and The Athletic’s writers think.</', 'Here’s what you need to know at the end of the day.</', 'Wesley Morris and J Wortham kick off a new season with Jordan Peele’s “Nope.”</', 'Could one small shift fix the polls in 2022?</', 'Join the head of the W.T.O. and other leaders for a Times event, Nov. 8-10.</', 'A political action committee has given more money to its founder and his charter school than to candidates aligned with Mayor Eric Adams.</', 'Benjamin Netanyahu’s near-certain win in this week’s election won’t be confirmed until Thursday, but his far right allies are already savoring their rise to power.</', 'Iran’s security forces shot at windows and threw stun grenades at a complex where a member of a militia was killed last week, residents said.</', 'The storm grew to hurricane strength on Wednesday. It had prompted hurricane and tropical storm warnings in parts of Belize, Guatemala and Mexico.</', 'Director Damien Chazelle and production designer Florencia Martin discuss how they captured the period when Hollywood was heading for a reckoning.</', 'These works consider the sources and effects of an alarming trend.</', 'In “Upcycle Nation,” premiering this week, contestants reimagine used items.</', 'The poet’s house museum gets a vibrant, historically correct makeover.</', '“My Broken Language” was adapted from her 2021 memoir.</', 'How many words can you make with 7 letters?</', 'Get clued in with wordplay, every day.</', 'Guess the 5-letter word with 6 chances.</', 'What the data tells us about how people play the game.</', 'Create words using letters around the square.</', 'Match visual elements and keep your chain going.</']\n",
            "['Less than a week before Election Day, President Biden delivered a speech on the threat posed by Republicans who won’t commit to accepting the results.', 'Donald Trump’s push to overturn his 2020 loss was rejected by courts. Now dozens of lawyers who advanced his claims are working for G.O.P. groups.', 'The Federal Reserve has now raised interest rates six times this year as it tries to quash the fastest inflation in four decades.', 'The agreement allows Ukraine, a major food producer, to export grain by sea, easing the threat of famine in other countries.', 'U.S. officials say they do not believe that Russia has decided to detonate a tactical device, but concerns are rising.', 'In a lengthy letter, Representative Zoe Lofgren — one of the most senior Democrats in the House — questioned several of the department’s policies and practices.', 'The New York attorney general’s office found that CBS, whose parent company is now Paramount, concealed allegations about its former chief executive.', 'The “Hunger Games” actress is free from her franchise commitments. But after a brief hiatus from acting, what will she do next?', 'Thousands demonstrated across Brazil, many of them demanding that the military stop the transfer of power to President-elect Luiz Inácio Lula da Silva.', 'As Mr. Musk takes over Twitter, he is emulating some of the actions of Mr. Zuckerberg, who leads Facebook, Instagram and WhatsApp.', 'The surprise deal comes after two years of fighting that left hundreds of thousands dead and millions displaced and facing starvation.', 'Writers, critics and musicians including Kamasi Washington, Nubya Garcia and Shabaka Hutchings on their connection to Coleman’s fearless artistry.', 'After Philadelphia seized control of the Series with a barrage of homers on Tuesday, Houston is trying to fight back. Follow The Athletic’s live coverage.', 'It was the first time in the World Series a team hit five home runs in the first five innings. And that was just the beginning.', 'Can Houston win in Philadelphia and tie up the World Series at 2-2? Here’s what oddsmakers and The Athletic’s writers think.', 'Here’s what you need to know at the end of the day.', 'Wesley Morris and J Wortham kick off a new season with Jordan Peele’s “Nope.”', 'Could one small shift fix the polls in 2022?', 'Join the head of the W.T.O. and other leaders for a Times event, Nov. 8-10.', 'A political action committee has given more money to its founder and his charter school than to candidates aligned with Mayor Eric Adams.', 'Benjamin Netanyahu’s near-certain win in this week’s election won’t be confirmed until Thursday, but his far right allies are already savoring their rise to power.', 'Iran’s security forces shot at windows and threw stun grenades at a complex where a member of a militia was killed last week, residents said.', 'The storm grew to hurricane strength on Wednesday. It had prompted hurricane and tropical storm warnings in parts of Belize, Guatemala and Mexico.', 'Director Damien Chazelle and production designer Florencia Martin discuss how they captured the period when Hollywood was heading for a reckoning.', 'These works consider the sources and effects of an alarming trend.', 'In “Upcycle Nation,” premiering this week, contestants reimagine used items.', 'The poet’s house museum gets a vibrant, historically correct makeover.', '“My Broken Language” was adapted from her 2021 memoir.', 'How many words can you make with 7 letters?', 'Get clued in with wordplay, every day.', 'Guess the 5-letter word with 6 chances.', 'What the data tells us about how people play the game.', 'Create words using letters around the square.', 'Match visual elements and keep your chain going.']\n"
          ]
        }
      ],
      "source": [
        "import requests\n",
        "from bs4 import BeautifulSoup\n",
        "\n",
        "url = 'https://www.nytimes.com/'\n",
        "r = requests.get(url)\n",
        "\n",
        "r_html = r.text\n",
        "soup = BeautifulSoup(r_html)\n",
        "\n",
        "headlines = soup.find_all('p',{'class':'summary-class css-1azn4ub'})\n",
        "len(headlines)\n",
        "print(headlines)\n",
        "print(type(headlines))\n",
        "\n",
        "cleaned_headlines = ([str(i).strip('<p class=\"summary-class css-1azn4ub\">') for i in headlines])\n",
        "polished_headlines = ([str(i).strip(\"</p>\") for i in cleaned_headlines])\n",
        "\n",
        "print(cleaned_headlines)\n",
        "print(polished_headlines)"
      ]
    },
    {
      "cell_type": "code",
      "source": [],
      "metadata": {
        "id": "QnInfPp81UTH"
      },
      "execution_count": null,
      "outputs": []
    }
  ]
}